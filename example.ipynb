{
 "cells": [
  {
   "cell_type": "code",
   "execution_count": 1,
   "metadata": {},
   "outputs": [
    {
     "name": "stderr",
     "output_type": "stream",
     "text": [
      "/home/user/anaconda3/envs/INVAE/lib/python3.6/site-packages/tqdm/auto.py:22: TqdmWarning: IProgress not found. Please update jupyter and ipywidgets. See https://ipywidgets.readthedocs.io/en/stable/user_install.html\n",
      "  from .autonotebook import tqdm as notebook_tqdm\n"
     ]
    }
   ],
   "source": [
    "from data import get_adata\n",
    "from data import test\n",
    "import scanpy as sc\n",
    "import numpy as np\n"
   ]
  },
  {
   "cell_type": "code",
   "execution_count": 2,
   "metadata": {},
   "outputs": [
    {
     "data": {
      "text/plain": [
       "AnnData object with n_obs × n_vars = 13576 × 2000\n",
       "    obs: 'orig.ident', 'nCount_RNA', 'nFeature_RNA', 'stim', 'seurat_annotations', 'integrated_snn_res.0.5', 'seurat_clusters', 'condition', 'cell_type', 'n_counts'\n",
       "    var: 'highly_variable', 'means', 'dispersions', 'dispersions_norm'\n",
       "    uns: 'hvg'"
      ]
     },
     "execution_count": 2,
     "metadata": {},
     "output_type": "execute_result"
    }
   ],
   "source": [
    "anndata = sc.read('dataset/kang_normalized.h5ad')\n",
    "anndata\n",
    "#np.unique(anndata.obs['cell_type'])"
   ]
  },
  {
   "cell_type": "code",
   "execution_count": 3,
   "metadata": {
    "scrolled": true
   },
   "outputs": [
    {
     "name": "stdout",
     "output_type": "stream",
     "text": [
      "['B' 'CD14 Mono' 'CD16 Mono' 'CD4 T' 'CD8 T' 'DC' 'NK' 'T']\n",
      "['control' 'stimulated']\n"
     ]
    }
   ],
   "source": [
    "print(np.unique(anndata.obs['cell_type']))\n",
    "print(np.unique(anndata.obs['condition']))"
   ]
  },
  {
   "cell_type": "code",
   "execution_count": 4,
   "metadata": {},
   "outputs": [],
   "source": [
    "path = 'dataset/kang_normalized.h5ad'\n",
    "p_cell = 'CD14 Mono'\n",
    "t_cond = 'stimulated'\n",
    "p_cond = 'control'\n",
    "cell_t_key = 'cell_type'\n",
    "cond_t_key = 'condition'"
   ]
  },
  {
   "cell_type": "code",
   "execution_count": 6,
   "metadata": {},
   "outputs": [],
   "source": [
    "from INVAE import INVAE\n",
    "from INVAE import main\n",
    "from model import *\n",
    "from utils import *"
   ]
  },
  {
   "cell_type": "code",
   "execution_count": 7,
   "metadata": {},
   "outputs": [],
   "source": [
    "#get the true predicted data for evaluate\n",
    "adata, pred_cell_N, targ_cond_N, pred_cond_N = get_adata(anndata_path = path, pred_cell = p_cell, targ_condition = p_cond, pred_condition=t_cond ,cell_type_key=cell_t_key, condition_type_key=cond_t_key)\n",
    "adata = adata[adata[:,-2]==pred_cell_N]\n",
    "fea_n = adata.shape[1] - 2\n",
    "adata = adata[:,:fea_n]\n",
    "real_mean_ = np.mean(adata.numpy(), axis=0)"
   ]
  },
  {
   "cell_type": "code",
   "execution_count": 8,
   "metadata": {
    "scrolled": true
   },
   "outputs": [
    {
     "name": "stdout",
     "output_type": "stream",
     "text": [
      "===============eva==========================\n",
      "r-squared: 0.5904038001510628\n",
      "\n",
      "===============eva==========================\n",
      "r-squared: 0.7668770717752721\n",
      "\n",
      "===============eva==========================\n",
      "r-squared: 0.8019444785540006\n",
      "\n",
      "===============eva==========================\n",
      "r-squared: 0.8258365871008218\n",
      "\n",
      "===============eva==========================\n",
      "r-squared: 0.8492499367420996\n",
      "\n",
      "===============eva==========================\n",
      "r-squared: 0.8723014663053736\n",
      "\n",
      "===============eva==========================\n",
      "r-squared: 0.882446009419723\n",
      "\n",
      "===============eva==========================\n",
      "r-squared: 0.8744808807696369\n",
      "\n",
      "===============eva==========================\n",
      "r-squared: 0.8741858036401167\n",
      "\n",
      "===============eva==========================\n",
      "r-squared: 0.8836488573953079\n",
      "\n",
      "===============eva==========================\n",
      "r-squared: 0.9074376742351385\n",
      "\n",
      "===============eva==========================\n",
      "r-squared: 0.8906602946223108\n",
      "\n",
      "===============eva==========================\n",
      "r-squared: 0.9141884138264075\n",
      "\n",
      "===============eva==========================\n",
      "r-squared: 0.9119767202830237\n",
      "\n",
      "===============eva==========================\n",
      "r-squared: 0.9003855096317417\n",
      "\n",
      "===============eva==========================\n",
      "r-squared: 0.9139722966601466\n",
      "\n",
      "===============eva==========================\n",
      "r-squared: 0.9073469382600265\n",
      "\n",
      "===============eva==========================\n",
      "r-squared: 0.9053465044708521\n",
      "\n",
      "===============eva==========================\n",
      "r-squared: 0.9116342535377754\n",
      "\n",
      "===============eva==========================\n",
      "r-squared: 0.9129512808732712\n",
      "\n",
      "===============eva==========================\n",
      "r-squared: 0.9145516014920221\n",
      "\n",
      "===============eva==========================\n",
      "r-squared: 0.9074823787817351\n",
      "\n",
      "===============eva==========================\n",
      "r-squared: 0.9152829959259117\n",
      "\n",
      "===============eva==========================\n",
      "r-squared: 0.9101483428003131\n",
      "\n",
      "===============eva==========================\n",
      "r-squared: 0.9159602327603419\n",
      "\n",
      "===============eva==========================\n",
      "r-squared: 0.9185690348049674\n",
      "\n",
      "===============eva==========================\n",
      "r-squared: 0.92021297196303\n",
      "\n",
      "===============eva==========================\n",
      "r-squared: 0.9113188782718342\n",
      "\n",
      "===============eva==========================\n",
      "r-squared: 0.9112011042472412\n",
      "\n",
      "===============eva==========================\n",
      "r-squared: 0.9146151719539277\n",
      "\n",
      "===============eva==========================\n",
      "r-squared: 0.9177338445239542\n",
      "\n",
      "===============eva==========================\n",
      "r-squared: 0.921068859742212\n",
      "\n",
      "===============eva==========================\n",
      "r-squared: 0.9231977720644943\n",
      "\n",
      "===============eva==========================\n",
      "r-squared: 0.9148224608369409\n",
      "\n",
      "===============eva==========================\n",
      "r-squared: 0.916759330745024\n",
      "\n",
      "===============eva==========================\n",
      "r-squared: 0.9132152728028852\n",
      "\n",
      "===============eva==========================\n",
      "r-squared: 0.9185012289578972\n",
      "\n",
      "===============eva==========================\n",
      "r-squared: 0.9197005799897148\n",
      "\n",
      "===============eva==========================\n",
      "r-squared: 0.9140115380051508\n",
      "\n",
      "===============eva==========================\n",
      "r-squared: 0.9160558205862084\n",
      "\n",
      "===============eva==========================\n",
      "r-squared: 0.9113832960359007\n",
      "\n",
      "===============eva==========================\n",
      "r-squared: 0.9161521410689879\n",
      "\n",
      "===============eva==========================\n",
      "r-squared: 0.9109058765925901\n",
      "\n",
      "===============eva==========================\n",
      "r-squared: 0.9175741871881293\n",
      "\n",
      "===============eva==========================\n",
      "r-squared: 0.9248993570806795\n",
      "\n",
      "===============eva==========================\n",
      "r-squared: 0.9198751469838393\n",
      "\n",
      "===============eva==========================\n",
      "r-squared: 0.9166225019855953\n",
      "\n",
      "===============eva==========================\n",
      "r-squared: 0.9155161032934563\n",
      "\n",
      "===============eva==========================\n",
      "r-squared: 0.9135912532342975\n",
      "\n",
      "===============eva==========================\n",
      "r-squared: 0.921477350557675\n",
      "\n",
      "===============eva==========================\n",
      "r-squared: 0.9232252183297669\n",
      "\n",
      "===============eva==========================\n",
      "r-squared: 0.9135617457421518\n",
      "\n",
      "===============eva==========================\n",
      "r-squared: 0.9207125361828321\n",
      "\n",
      "===============eva==========================\n",
      "r-squared: 0.9201341960455479\n",
      "\n",
      "===============eva==========================\n",
      "r-squared: 0.9222444024844025\n",
      "\n",
      "===============eva==========================\n",
      "r-squared: 0.9114585187476021\n",
      "\n",
      "===============eva==========================\n",
      "r-squared: 0.9132124228610586\n",
      "\n",
      "===============eva==========================\n",
      "r-squared: 0.9141138872362076\n",
      "\n",
      "===============eva==========================\n",
      "r-squared: 0.921813210652548\n",
      "\n",
      "===============eva==========================\n",
      "r-squared: 0.916173152888097\n",
      "\n",
      "===============eva==========================\n",
      "r-squared: 0.9136744261983917\n",
      "\n",
      "===============eva==========================\n",
      "r-squared: 0.9121112736512849\n",
      "\n",
      "===============eva==========================\n",
      "r-squared: 0.9106046325545718\n",
      "\n",
      "===============eva==========================\n",
      "r-squared: 0.9186713872069505\n",
      "\n",
      "===============eva==========================\n",
      "r-squared: 0.918571343037861\n",
      "\n",
      "===============eva==========================\n",
      "r-squared: 0.9140605713160672\n",
      "\n",
      "===============eva==========================\n",
      "r-squared: 0.9146781070852936\n",
      "\n",
      "===============eva==========================\n",
      "r-squared: 0.919517888011386\n",
      "\n",
      "===============eva==========================\n",
      "r-squared: 0.9224691188745626\n",
      "\n",
      "===============eva==========================\n",
      "r-squared: 0.9128903120808818\n",
      "\n",
      "===============eva==========================\n",
      "r-squared: 0.9135738160152652\n",
      "\n",
      "===============eva==========================\n",
      "r-squared: 0.9121698116008194\n",
      "\n",
      "===============eva==========================\n",
      "r-squared: 0.9170015958461646\n",
      "\n",
      "===============eva==========================\n",
      "r-squared: 0.9105824123426773\n",
      "\n",
      "===============eva==========================\n",
      "r-squared: 0.9155314069964497\n",
      "\n",
      "===============eva==========================\n",
      "r-squared: 0.9084591863126849\n",
      "\n",
      "===============eva==========================\n",
      "r-squared: 0.9138962021297373\n",
      "\n",
      "===============eva==========================\n",
      "r-squared: 0.914718876676873\n",
      "\n",
      "===============eva==========================\n",
      "r-squared: 0.9171493858699662\n",
      "\n",
      "===============eva==========================\n",
      "r-squared: 0.9161306504903874\n",
      "\n",
      "===============eva==========================\n",
      "r-squared: 0.9072832569789997\n",
      "\n",
      "===============eva==========================\n",
      "r-squared: 0.9087571275156335\n",
      "\n",
      "===============eva==========================\n",
      "r-squared: 0.9183377284026395\n",
      "\n",
      "===============eva==========================\n",
      "r-squared: 0.9105067414418072\n",
      "\n",
      "===============eva==========================\n",
      "r-squared: 0.9117981891890712\n",
      "\n",
      "===============eva==========================\n",
      "r-squared: 0.9084106515109036\n",
      "\n",
      "===============eva==========================\n",
      "r-squared: 0.9210488955977071\n",
      "\n",
      "===============eva==========================\n",
      "r-squared: 0.9089321701126897\n",
      "\n",
      "===============eva==========================\n",
      "r-squared: 0.9195625136248268\n",
      "\n",
      "===============eva==========================\n",
      "r-squared: 0.9106511976395106\n",
      "\n",
      "===============eva==========================\n",
      "r-squared: 0.9102254475128732\n",
      "\n",
      "===============eva==========================\n",
      "r-squared: 0.9181273546638816\n",
      "\n",
      "===============eva==========================\n",
      "r-squared: 0.9209474568259409\n",
      "\n",
      "===============eva==========================\n",
      "r-squared: 0.9206058705549637\n",
      "\n",
      "===============eva==========================\n",
      "r-squared: 0.9177800223942851\n",
      "\n",
      "===============eva==========================\n",
      "r-squared: 0.9208542556457036\n",
      "\n",
      "===============eva==========================\n",
      "r-squared: 0.9103175135936772\n",
      "\n",
      "===============eva==========================\n",
      "r-squared: 0.9145184121821401\n",
      "\n",
      "===============eva==========================\n",
      "r-squared: 0.9140877694969888\n",
      "\n",
      "===============eva==========================\n",
      "r-squared: 0.9105874797582773\n",
      "\n"
     ]
    }
   ],
   "source": [
    "#train model\n",
    "\n",
    "model = main(ann_path=path, pred_cell=p_cell, targ_condition=t_cond, pred_condition=p_cond,epoch_N=500, bat_N=512,cell_type_key=cell_t_key, condition_type_key=cond_t_key,real_mean_=real_mean_)"
   ]
  },
  {
   "cell_type": "code",
   "execution_count": 10,
   "metadata": {},
   "outputs": [],
   "source": [
    "#save the generated data\n",
    "adata, pred_cell_N, targ_cond_N, pred_cond_N = get_adata(anndata_path = path, pred_cell = p_cell, targ_condition = t_cond, pred_condition=p_cond,cell_type_key=cell_t_key, condition_type_key=cond_t_key)\n",
    "adata = adata[adata[:,-2]==pred_cell_N]\n",
    "z_params_o = model.encoder.forward(adata.cuda()).view(adata.size(0), (60), 2)\n",
    "z_params_o = torch.clamp(z_params_o, min=-30,max=30)\n",
    "z_params = Normal().sample(params=z_params_o).cuda()\n",
    "\n",
    "\n",
    "z_com = z_params[:,:(30)]\n",
    "z_spe = z_params[:,(30):(60)]\n",
    "impute_D = adata[:,-1].reshape([-1,1]).cuda() \n",
    "impute_D[:] = targ_cond_N\n",
    "impute_C = adata[:,-2].reshape([-1,1]).cuda()\n",
    "\n",
    "inp_spe = torch.cat((z_spe,impute_D),1)\n",
    "inp_con = torch.cat((z_com,impute_C),1)\n",
    "\n",
    "z_proj_N = model.p_layer.forward(inp_spe)\n",
    "x_params_spe_N = model.decoder_S.forward(z_proj_N)\n",
    "x_params_spe_N = x_params_spe_N.view(len(inp_con), fea_n)\n",
    "x_params_com_N = model.decoder_C.forward(inp_con).view(len(inp_con), fea_n)\n",
    "x_params_N = x_params_spe_N + x_params_com_N \n",
    "\n",
    "outfile = 'output/pred_' + p_cell \n",
    "np.save(outfile, x_params_N.detach().cpu().numpy())"
   ]
  },
  {
   "cell_type": "code",
   "execution_count": 11,
   "metadata": {},
   "outputs": [],
   "source": [
    "#visualization"
   ]
  },
  {
   "cell_type": "code",
   "execution_count": 12,
   "metadata": {},
   "outputs": [],
   "source": [
    "adata, pred_cell_indx, pred_condition_indx = get_adata(anndata_path = path, pred_cell = p_cell, targ_condition = t_cond, pred_condition=p_cond ,cell_type_key=cell_t_key, condition_type_key=cond_t_key, isevalu=True)"
   ]
  },
  {
   "cell_type": "code",
   "execution_count": 13,
   "metadata": {},
   "outputs": [],
   "source": [
    "x_params_spe_N = np.zeros([adata.shape[0],adata.shape[1]-2])\n",
    "x_params_com_N = np.zeros([adata.shape[0],adata.shape[1]-2])\n",
    "for i in range(len(adata)//1000 + 1):\n",
    "    x = adata[(i*1000):((i+1)*1000)]\n",
    "    z_params_o = model.encoder.forward(x.cuda()).view(x.size(0), (60), 2)\n",
    "    \n",
    "    \n",
    "    z_params_o = torch.clamp(z_params_o, min=-30,max=30)\n",
    "    z_params = Normal().sample(params=z_params_o).cuda()\n",
    "\n",
    "    z_com = z_params[:,:(30)]\n",
    "    z_spe = z_params[:,(30):(60)]\n",
    "    impute_D = x[:,-1].reshape([-1,1]).cuda() \n",
    "    impute_C = x[:,-2].reshape([-1,1]).cuda()\n",
    "    inp_spe = torch.cat((z_spe,impute_D),1)\n",
    "    inp_con = torch.cat((z_com,impute_C),1)\n",
    "    \n",
    "    \n",
    "    z_proj_N = model.p_layer.forward(inp_spe)\n",
    "    sav_spe_N = model.decoder_S.forward(z_proj_N)\n",
    "    sav_con_N = model.decoder_C.forward(inp_con)\n",
    "    x_params_spe_N[(i*1000):((i+1)*1000)] = sav_spe_N.view(len(inp_spe), fea_n).cpu().detach().numpy()\n",
    "    x_params_com_N[(i*1000):((i+1)*1000)] = sav_con_N.view(len(inp_spe), fea_n).cpu().detach().numpy()"
   ]
  },
  {
   "cell_type": "code",
   "execution_count": 14,
   "metadata": {},
   "outputs": [],
   "source": [
    "load_matrix_LA_ = []\n",
    "for i in adata[:,-2]:\n",
    "    load_matrix_LA_.append(pred_cell_indx[int(i.item())])\n",
    "    #print(i)\n",
    "\n",
    "load_matrix_LA_D_ = []\n",
    "for i in adata[:,-1]:\n",
    "    load_matrix_LA_D_.append(pred_condition_indx[int(i.item())])"
   ]
  },
  {
   "cell_type": "code",
   "execution_count": 15,
   "metadata": {},
   "outputs": [
    {
     "data": {
      "text/plain": [
       "AnnData object with n_obs × n_vars = 13576 × 2000\n",
       "    obs: 'cell_type', 'condition'"
      ]
     },
     "execution_count": 15,
     "metadata": {},
     "output_type": "execute_result"
    }
   ],
   "source": [
    "import anndata\n",
    "N_data = anndata.AnnData(X=x_params_spe_N)   #x_params_com_N for condition-invariance output\n",
    "N_data.obs['cell_type'] = np.array(load_matrix_LA_)\n",
    "N_data.obs['condition'] = np.array(load_matrix_LA_D_)\n",
    "N_data"
   ]
  },
  {
   "cell_type": "code",
   "execution_count": 16,
   "metadata": {},
   "outputs": [
    {
     "name": "stderr",
     "output_type": "stream",
     "text": [
      "WARNING: You’re trying to run this on 2000 dimensions of `.X`, if you really want this, set `use_rep='X'`.\n",
      "         Falling back to preprocessing with `sc.pp.pca` and default params.\n",
      "... storing 'cell_type' as categorical\n",
      "... storing 'condition' as categorical\n"
     ]
    },
    {
     "data": {
      "image/png": "[encoded data removed]",
      "text/plain": [
       "<Figure size 993.6x288 with 2 Axes>"
      ]
     },
     "metadata": {},
     "output_type": "display_data"
    }
   ],
   "source": [
    "\n",
    "import matplotlib \n",
    "import scanpy as sc\n",
    "\n",
    "sc.pp.neighbors(N_data)\n",
    "sc.tl.umap(N_data)\n",
    "sc.pl.umap(N_data, color=['cell_type','condition'],\n",
    "           show=True,\n",
    "           wspace=0.15,\n",
    "           frameon=False)"
   ]
  }
 ],
 "metadata": {
  "kernelspec": {
   "display_name": "Python 3.6.13 ('INVAE')",
   "language": "python",
   "name": "python3"
  },
  "language_info": {
   "codemirror_mode": {
    "name": "ipython",
    "version": 3
   },
   "file_extension": ".py",
   "mimetype": "text/x-python",
   "name": "python",
   "nbconvert_exporter": "python",
   "pygments_lexer": "ipython3",
   "version": "3.6.13"
  },
  "vscode": {
   "interpreter": {
    "hash": "96ad569978d5f96cb70c373ad1e3ee7c2fe25634e2b55590006dd77a637b7afd"
   }
  }
 },
 "nbformat": 4,
 "nbformat_minor": 4
}
